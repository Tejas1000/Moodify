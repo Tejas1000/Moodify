# Importing libraries

from google.colab import drive
drive.mount('/content/drive')

import os
path = "/content/drive/MyDrive"
os.chdir(path)

import keras
from keras.models import Sequential, load_model
from keras.layers import Conv2D, BatchNormalization, MaxPool2D, Flatten, Dense, Dropout
from keras.callbacks import EarlyStopping, ModelCheckpoint
from keras.preprocessing.image import ImageDataGenerator
import matplotlib.pyplot as plt
from PIL.Image import Image
import numpy as np
import pandas as pd
import zipfile

# Loading Dataset

from tensorflow.python import train
zip_file = zipfile.ZipFile('/content/drive/MyDrive/Dataset.zip','r')
zip_file.extractall('/content')
path = path="/content/Dataset"
train_dir = path + "/FER_2013/train"
test_dir = path + "/FER_2013/test"
train_data = ImageDataGenerator(rescale = 1./255, 
                                shear_range = 0.2,
                                rotation_range = 20,
                                zoom_range = 0.2,
                                horizontal_flip = True)
test_data = ImageDataGenerator(rescale = 1./255)

train_dataset = train_data.flow_from_directory(train_dir, target_size=(48,48), batch_size = 32, color_mode="grayscale", class_mode="categorical")
test_dataset = train_data.flow_from_directory(test_dir, target_size=(48,48), batch_size = 32, color_mode="grayscale", class_mode="categorical")

# Model making

emotions = train_dataset.num_classes

moodDetector = Sequential()
moodDetector.add(Conv2D(filters=64, kernel_size=(3,3) ,input_shape=(48,48,1) ,activation='relu'))
moodDetector.add(BatchNormalization())
moodDetector.add(Conv2D(filters=128, kernel_size=(3,3), activation='relu', kernel_regularizer=keras.regularizers.l2(1e-4)))
moodDetector.add(MaxPool2D(pool_size=(2,2)))
moodDetector.add(BatchNormalization())
moodDetector.add(Conv2D(filters=256, kernel_size=(3,3), activation='relu', kernel_regularizer=keras.regularizers.l1(1e-4)))
moodDetector.add(BatchNormalization())
moodDetector.add(Conv2D(filters=256, kernel_size=(3,3), activation='relu', kernel_regularizer=keras.regularizers.l2(1e-4)))
moodDetector.add(MaxPool2D(pool_size=(2,2)))
moodDetector.add(BatchNormalization())
moodDetector.add(Conv2D(filters=512, kernel_size=(3,3), activation='relu', kernel_regularizer=keras.regularizers.l1(1e-4)))
moodDetector.add(BatchNormalization())
moodDetector.add(Conv2D(filters=512, kernel_size=(3,3), activation='relu', kernel_regularizer=keras.regularizers.l2(1e-4)))
moodDetector.add(MaxPool2D(pool_size=(2,2)))
moodDetector.add(BatchNormalization())
moodDetector.add(Flatten())
moodDetector.add(Dense(1024, activation='relu', kernel_regularizer=keras.regularizers.l2(1e-4)))
# moodDetector.add(Dropout(0.2))
moodDetector.add(Dense(512, activation='relu', kernel_regularizer=keras.regularizers.l2(1e-4)))
moodDetector.add(Dropout(0.2))
moodDetector.add(Dense(emotions, activation='softmax'))
print(moodDetector.summary())

adam = keras.optimizers.Adam(learning_rate=0.001)
moodDetector.compile(loss='categorical_crossentropy',optimizer=adam,  metrics=['accuracy'])
# early_stopping = EarlyStopping(monitor='val_loss', patience=5, verbose=1, mode='min')
model_checkpoint = ModelCheckpoint('mood_detector.h5', save_best_only=True, monitor='val_loss', verbose=1, mode='auto')

no_of_epochs = 20
history = moodDetector.fit(train_dataset,
steps_per_epoch = train_dataset.n//train_dataset.batch_size,
epochs=no_of_epochs,
# verbose=1,
validation_data = test_dataset,
validation_steps = test_dataset.n//test_dataset.batch_size,
callbacks=model_checkpoint)

acc = history.history['accuracy']
val_acc = history.history['val_accuracy']
loss = history.history['loss']
val_loss = history.history['val_loss']
epochs = range(len(acc))

# Accuracy curve
plt.plot(epochs, acc, 'r', label='Training accuracy')
plt.plot(epochs, val_acc, 'b', label='Validation accuracy')
plt.title('Training and validation accuracy')
plt.legend(loc='upper left')
plt.figure()
plt.show()

# Learning curve
plt.plot(epochs, loss, 'r', label='Training accuracy')
plt.plot(epochs, val_loss, 'b', label='Validation accuracy')
plt.title('Training and validation accuracy')
plt.legend(loc='upper left')
plt.figure()
plt.show()

moodDetector.save("/content/drive/MyDrive/moodifyEngine.h5")

from keras.models import load_model
import cv2
from google.colab.patches import cv2_imshow
import numpy as np

label_dictionary={0:"Angry",1:"Disgust",2:"Fear",3:"Happy",4:"Neutral",5:"Sad",6:"Surprise"}
moodDetector = load_model("/content/drive/MyDrive/moodifyEngine.h5")
face_detector = cv2.CascadeClassifier('/content/drive/MyDrive/haarcascade_frontalface_default.xml')
img = cv2.imread('/content/happy.jpeg')

# Preprocess image
gray = cv2.cvtColor(img, cv2.COLOR_BGR2GRAY)
faces = face_detector.detectMultiScale(gray, 1.3, 5)
x,y,w,h = faces[0]
print(x)
cropped = gray[y:y+h,x:x+w]
resized = cv2.resize(cropped, (48, 48))
normalized = resized / 255.0
input_data = normalized.reshape((1,48,48))
print(moodDetector.predict(input_data))
# Make prediction
prediction = np.argmax(moodDetector.predict(input_data), axis=-1)

# Print result
print("The predicted emotion is:", label_dictionary.get(prediction[0]))

# Show image
# cv2_imshow(img)
# cv2_imshow(cropped)
cv2.waitKey(0)
cv2.destroyAllWindows()
